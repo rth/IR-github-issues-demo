{
 "cells": [
  {
   "cell_type": "code",
   "execution_count": 2,
   "metadata": {
    "collapsed": true
   },
   "outputs": [],
   "source": [
    "%matplotlib inline"
   ]
  },
  {
   "cell_type": "markdown",
   "metadata": {},
   "source": [
    "\n",
    "# FreeDiscovery demo: review of GitHub issues.\n",
    "\n",
    "\n",
    "An example to illustrate document review on github issues in `scikit-learn/scikit-learn`\n",
    "\n"
   ]
  },
  {
   "cell_type": "code",
   "execution_count": 82,
   "metadata": {
    "collapsed": true
   },
   "outputs": [],
   "source": [
    "from __future__ import print_function\n",
    "\n",
    "import os.path\n",
    "import requests\n",
    "import pandas as pd\n",
    "\n",
    "from IPython.display import HTML\n",
    "\n",
    "pd.options.display.float_format = '{:,.3f}'.format\n",
    "pd.options.display.expand_frame_repr = False\n",
    "pd.options.display.max_colwidth = -1\n",
    "\n",
    "DATA_DIR = './data'\n",
    "BASE_URL = \"http://localhost:5001/api/v0\"  # FreeDiscovery server URL\n",
    "\n",
    "def post(url, **pars):\n",
    "    url = BASE_URL + url\n",
    "    print(\" POST\", url)\n",
    "    return requests.post(url, **pars).json()\n",
    "\n",
    "def get(url, **pars):\n",
    "    url = BASE_URL + url\n",
    "    print(\" POST\", url)\n",
    "    return requests.get(url, **pars).json()\n",
    "\n",
    "db = pd.read_pickle('db.pkl')\n",
    "\n",
    "def print_github(y):\n",
    "    y = y.merge(db, on='document_id')\n",
    "    y['name'] = ['<a href=\"{}\"> {}</a>'.format(row['url'], row['title'])\n",
    "                 for idx, row in y.iterrows()]\n",
    "    for key in ['type', 'title', 'url']:\n",
    "        del y[key]\n",
    "    y.set_index('document_id', inplace=True)\n",
    "    display(HTML(y.iloc[:10].to_html(escape=False)))"
   ]
  },
  {
   "cell_type": "markdown",
   "metadata": {},
   "source": [
    "## 1. Feature extraction"
   ]
  },
  {
   "cell_type": "code",
   "execution_count": 97,
   "metadata": {},
   "outputs": [
    {
     "name": "stdout",
     "output_type": "stream",
     "text": [
      "\n",
      "1.a Load dataset and initalize feature extraction\n",
      " POST http://localhost:5001/api/v0/feature-extraction\n",
      "   => dsid = a78456b80f3c4cf2\n",
      "\n",
      "1.b Start feature extraction\n",
      " POST http://localhost:5001/api/v0/feature-extraction/a78456b80f3c4cf2\n",
      "\n",
      "1.d. check the parameters of the extracted features\n",
      " POST http://localhost:5001/api/v0/feature-extraction/a78456b80f3c4cf2\n",
      "     - analyzer: word\n",
      "     - binary: False\n",
      "     - chunk_size: 5000\n",
      "     - data_dir: /home/rth/symerio/c/grossman_labs/IR-github-issues-demo/data\n",
      "     - max_df: 1.0\n",
      "     - min_df: 0.0\n",
      "     - n_features: 100001\n",
      "     - n_jobs: 1\n",
      "     - n_samples: 9089\n",
      "     - n_samples_processed: 9089\n",
      "     - ngram_range: [1, 1]\n",
      "     - norm: l2\n",
      "     - parse_email_headers: False\n",
      "     - stop_words: None\n",
      "     - sublinear_tf: True\n",
      "     - use_hashing: False\n",
      "     - use_idf: False\n"
     ]
    }
   ],
   "source": [
    "print(\"\\n1.a Load dataset and initalize feature extraction\")\n",
    "res = post('/feature-extraction')\n",
    "\n",
    "dsid = res['id']\n",
    "print(\"   => dsid = {}\".format(dsid))\n",
    "\n",
    "print(\"\\n1.b Start feature extraction\")\n",
    "\n",
    "res = post('/feature-extraction/{}'.format(dsid),\n",
    "           json={'data_dir': DATA_DIR,\n",
    "                 'document_id_generator': 'infer_file_path'})\n",
    "\n",
    "print(\"\\n1.d. check the parameters of the extracted features\")\n",
    "\n",
    "res = get('/feature-extraction/{}'.format(dsid))\n",
    "\n",
    "print('\\n'.join(['     - {}: {}'.format(key, val)\n",
    "      for key, val in res.items() if \"filenames\" not in key]))"
   ]
  },
  {
   "cell_type": "markdown",
   "metadata": {},
   "source": [
    "### 3. Document categorization with LSI (used for Nearest Neighbors method)"
   ]
  },
  {
   "cell_type": "code",
   "execution_count": 17,
   "metadata": {},
   "outputs": [
    {
     "name": "stdout",
     "output_type": "stream",
     "text": [
      "POST http://localhost:5001/api/v0/lsi/\n",
      "  => LSI model id = 1af437fd719f4695\n",
      "  => SVD decomposition with 150 dimensions explaining 59.67 % variabilty of the data\n"
     ]
    }
   ],
   "source": [
    "url = BASE_URL + '/lsi/'\n",
    "print(\"POST\", url)\n",
    "\n",
    "n_components = 150\n",
    "res = requests.post(url,\n",
    "                    json={'n_components': n_components,\n",
    "                          'parent_id': dsid\n",
    "                          }).json()\n",
    "\n",
    "lsi_id = res['id']\n",
    "print('  => LSI model id = {}'.format(lsi_id))\n",
    "print('  => SVD decomposition with {} dimensions explaining {:.2f} % variabilty of the data'.format(\n",
    "                        n_components, res['explained_variance']*100))\n",
    "\n"
   ]
  },
  {
   "cell_type": "markdown",
   "metadata": {},
   "source": [
    "### 3. Semantic Search"
   ]
  },
  {
   "cell_type": "code",
   "execution_count": 83,
   "metadata": {},
   "outputs": [
    {
     "name": "stdout",
     "output_type": "stream",
     "text": [
      " POST http://localhost:5001/api/v0/search\n"
     ]
    },
    {
     "data": {
      "text/html": [
       "<table border=\"1\" class=\"dataframe\">\n",
       "  <thead>\n",
       "    <tr style=\"text-align: right;\">\n",
       "      <th></th>\n",
       "      <th>score</th>\n",
       "      <th>name</th>\n",
       "    </tr>\n",
       "    <tr>\n",
       "      <th>document_id</th>\n",
       "      <th></th>\n",
       "      <th></th>\n",
       "    </tr>\n",
       "  </thead>\n",
       "  <tbody>\n",
       "    <tr>\n",
       "      <th>2008</th>\n",
       "      <td>0.629</td>\n",
       "      <td><a href=\"https://github.com/scikit-learn/scikit-learn/pull/2008\"> [MRG+1] Elkan k-means</a></td>\n",
       "    </tr>\n",
       "    <tr>\n",
       "      <th>6029</th>\n",
       "      <td>0.604</td>\n",
       "      <td><a href=\"https://github.com/scikit-learn/scikit-learn/pull/6029\"> Adding Time Series Regressors </a></td>\n",
       "    </tr>\n",
       "    <tr>\n",
       "      <th>5414</th>\n",
       "      <td>0.601</td>\n",
       "      <td><a href=\"https://github.com/scikit-learn/scikit-learn/pull/5414\"> [MRG+1] Elkans K means</a></td>\n",
       "    </tr>\n",
       "    <tr>\n",
       "      <th>1593</th>\n",
       "      <td>0.588</td>\n",
       "      <td><a href=\"https://github.com/scikit-learn/scikit-learn/issues/1593\"> Joblib saved classifier slow prediction</a></td>\n",
       "    </tr>\n",
       "    <tr>\n",
       "      <th>4917</th>\n",
       "      <td>0.587</td>\n",
       "      <td><a href=\"https://github.com/scikit-learn/scikit-learn/issues/4917\"> LSHForest performance</a></td>\n",
       "    </tr>\n",
       "    <tr>\n",
       "      <th>7387</th>\n",
       "      <td>0.582</td>\n",
       "      <td><a href=\"https://github.com/scikit-learn/scikit-learn/issues/7387\"> Remove training set prediction time from cross-validation timing?</a></td>\n",
       "    </tr>\n",
       "    <tr>\n",
       "      <th>7639</th>\n",
       "      <td>0.572</td>\n",
       "      <td><a href=\"https://github.com/scikit-learn/scikit-learn/issues/7639\"> Timings in crossvalidation</a></td>\n",
       "    </tr>\n",
       "    <tr>\n",
       "      <th>8499</th>\n",
       "      <td>0.552</td>\n",
       "      <td><a href=\"https://github.com/scikit-learn/scikit-learn/issues/8499\"> Memory leak in LogisticRegression</a></td>\n",
       "    </tr>\n",
       "    <tr>\n",
       "      <th>228</th>\n",
       "      <td>0.544</td>\n",
       "      <td><a href=\"https://github.com/scikit-learn/scikit-learn/pull/228\"> TfidfTransfomer: user-selectable norm</a></td>\n",
       "    </tr>\n",
       "    <tr>\n",
       "      <th>2844</th>\n",
       "      <td>0.535</td>\n",
       "      <td><a href=\"https://github.com/scikit-learn/scikit-learn/issues/2844\"> time.clock() vs time.time()</a></td>\n",
       "    </tr>\n",
       "  </tbody>\n",
       "</table>"
      ],
      "text/plain": [
       "<IPython.core.display.HTML object>"
      ]
     },
     "metadata": {},
     "output_type": "display_data"
    }
   ],
   "source": [
    "res = post('/search', json={'parent_id': lsi_id,\n",
    "                            'query_document_id': 8833,\n",
    "                              })\n",
    "y = pd.DataFrame(res['data'])\n",
    "print_github(y)"
   ]
  },
  {
   "cell_type": "markdown",
   "metadata": {},
   "source": [
    "### 4. Document categorization"
   ]
  },
  {
   "cell_type": "code",
   "execution_count": 96,
   "metadata": {},
   "outputs": [
    {
     "name": "stdout",
     "output_type": "stream",
     "text": [
      "\n",
      "3.a. Train the categorization model\n",
      " Training...\n",
      " POST http://localhost:5001/api/v0/categorization/\n",
      "\n",
      "3.c Categorize the complete dataset with this model\n",
      " POST http://localhost:5001/api/v0/categorization/b7bddd48e33d44cf/predict\n"
     ]
    },
    {
     "data": {
      "text/html": [
       "<table border=\"1\" class=\"dataframe\">\n",
       "  <thead>\n",
       "    <tr style=\"text-align: right;\">\n",
       "      <th></th>\n",
       "      <th>category</th>\n",
       "      <th>score</th>\n",
       "      <th>name</th>\n",
       "    </tr>\n",
       "    <tr>\n",
       "      <th>document_id</th>\n",
       "      <th></th>\n",
       "      <th></th>\n",
       "      <th></th>\n",
       "    </tr>\n",
       "  </thead>\n",
       "  <tbody>\n",
       "    <tr>\n",
       "      <th>7639</th>\n",
       "      <td>positive</td>\n",
       "      <td>0.672</td>\n",
       "      <td><a href=\"https://github.com/scikit-learn/scikit-learn/issues/7639\"> Timings in crossvalidation</a></td>\n",
       "    </tr>\n",
       "    <tr>\n",
       "      <th>2008</th>\n",
       "      <td>positive</td>\n",
       "      <td>0.653</td>\n",
       "      <td><a href=\"https://github.com/scikit-learn/scikit-learn/pull/2008\"> [MRG+1] Elkan k-means</a></td>\n",
       "    </tr>\n",
       "    <tr>\n",
       "      <th>5414</th>\n",
       "      <td>positive</td>\n",
       "      <td>0.638</td>\n",
       "      <td><a href=\"https://github.com/scikit-learn/scikit-learn/pull/5414\"> [MRG+1] Elkans K means</a></td>\n",
       "    </tr>\n",
       "    <tr>\n",
       "      <th>228</th>\n",
       "      <td>positive</td>\n",
       "      <td>0.633</td>\n",
       "      <td><a href=\"https://github.com/scikit-learn/scikit-learn/pull/228\"> TfidfTransfomer: user-selectable norm</a></td>\n",
       "    </tr>\n",
       "    <tr>\n",
       "      <th>6029</th>\n",
       "      <td>positive</td>\n",
       "      <td>0.604</td>\n",
       "      <td><a href=\"https://github.com/scikit-learn/scikit-learn/pull/6029\"> Adding Time Series Regressors </a></td>\n",
       "    </tr>\n",
       "    <tr>\n",
       "      <th>2844</th>\n",
       "      <td>positive</td>\n",
       "      <td>0.595</td>\n",
       "      <td><a href=\"https://github.com/scikit-learn/scikit-learn/issues/2844\"> time.clock() vs time.time()</a></td>\n",
       "    </tr>\n",
       "    <tr>\n",
       "      <th>1593</th>\n",
       "      <td>positive</td>\n",
       "      <td>0.588</td>\n",
       "      <td><a href=\"https://github.com/scikit-learn/scikit-learn/issues/1593\"> Joblib saved classifier slow prediction</a></td>\n",
       "    </tr>\n",
       "    <tr>\n",
       "      <th>4917</th>\n",
       "      <td>positive</td>\n",
       "      <td>0.587</td>\n",
       "      <td><a href=\"https://github.com/scikit-learn/scikit-learn/issues/4917\"> LSHForest performance</a></td>\n",
       "    </tr>\n",
       "    <tr>\n",
       "      <th>2078</th>\n",
       "      <td>positive</td>\n",
       "      <td>0.585</td>\n",
       "      <td><a href=\"https://github.com/scikit-learn/scikit-learn/pull/2078\"> Refactor euclidean distance metric in Cython</a></td>\n",
       "    </tr>\n",
       "    <tr>\n",
       "      <th>6899</th>\n",
       "      <td>positive</td>\n",
       "      <td>0.583</td>\n",
       "      <td><a href=\"https://github.com/scikit-learn/scikit-learn/pull/6899\"> [MRG] Expose mean_time in results_ for *SearchCV</a></td>\n",
       "    </tr>\n",
       "  </tbody>\n",
       "</table>"
      ],
      "text/plain": [
       "<IPython.core.display.HTML object>"
      ]
     },
     "metadata": {},
     "output_type": "display_data"
    }
   ],
   "source": [
    "print(\"\\n3.a. Train the categorization model\")\n",
    "\n",
    "print(' Training...')\n",
    "\n",
    "params = {'parent_id': lsi_id,\n",
    "          'method': 'NearestNeighbor',\n",
    "           'data': [{'document_id': 8833, 'category': 'positive'}, \n",
    "                    {'document_id': 7387, 'category': 'positive'}\n",
    "                   ]}\n",
    "\n",
    "res = post('/categorization/', json=params)\n",
    "mid = res['id']\n",
    "\n",
    "\n",
    "print(\"\\n3.c Categorize the complete dataset with this model\")\n",
    "res = get('/categorization/{}/predict'.format(mid),\n",
    "         )#json={'sort_by': 'positive'})\n",
    "\n",
    "data = []\n",
    "for row in res['data']:\n",
    "    data.append({'document_id': row['document_id'],\n",
    "                 'category': row['scores'][0]['category'],\n",
    "                 'score': row['scores'][0]['score']})\n",
    "\n",
    "y = pd.DataFrame(data)\n",
    "print_github(y.iloc[:20])"
   ]
  },
  {
   "cell_type": "code",
   "execution_count": null,
   "metadata": {
    "collapsed": true
   },
   "outputs": [],
   "source": []
  }
 ],
 "metadata": {
  "kernelspec": {
   "display_name": "Python 3",
   "language": "python",
   "name": "python3"
  },
  "language_info": {
   "codemirror_mode": {
    "name": "ipython",
    "version": 3
   },
   "file_extension": ".py",
   "mimetype": "text/x-python",
   "name": "python",
   "nbconvert_exporter": "python",
   "pygments_lexer": "ipython3",
   "version": "3.6.1"
  }
 },
 "nbformat": 4,
 "nbformat_minor": 1
}
